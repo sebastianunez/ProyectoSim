{
 "cells": [
  {
   "cell_type": "markdown",
   "metadata": {
    "collapsed": true
   },
   "source": [
    "## titulo bonito (pensar en uno)\n",
    "## nota: este texto lo escribi como estilo obtivos pero creo que va mas como introduccion si gustan quitar lo que gusten \n",
    "\n",
    "La mayoría de las personas a lo hora de la adquisición de bienes o servicios inesperados o que simplemente no se pueden financiar con sus propios recursos, recurren a la opción del financiamiento. Es decir, prestamos de efectivo que por lo regular son ofrecidos por instituciones financiera de diversos abarcamientos.\n",
    "Este es un mercado muy variado, donde se ofrecen diferentes tipos de créditos(financiamientos/prestamos) que están sujetos a diferentes variables. Como lo podrían ser:\n",
    "*El monto mínimo a prestar y el máximo dependiendo de la necesidad y de las posibilidades financieras del usuario respectivamente.\n",
    "*La tasa de interés\n",
    "*El plazo de pago\n",
    "*Las anualidades\n",
    "*La capitalización\n",
    "Etc.\n",
    "Por lo anterior mencionado es muy importante que se comprar diferentes alternativas de instituciones financiera y sus ofertas. Por lo que con este proyecto se pretende crea un simulador que arroje diferentes tablas de amortización donde el usuario pueda comprar \n",
    "\n",
    "La idea que respalda el proyecto es crear un estilo simulador de amortización para algunos diferentes tipos de crédito comerciales.\n",
    "\n"
   ]
  },
  {
   "cell_type": "code",
   "execution_count": null,
   "metadata": {
    "collapsed": true
   },
   "outputs": [],
   "source": [
    "http://agustindeiturbide.com/?page_id=12799\n",
    "    \n",
    "    https://www.buro.gob.mx/\n",
    "        \n",
    "        \n",
    "        hola\n",
    "        "
   ]
  }
 ],
 "metadata": {
  "kernelspec": {
   "display_name": "Python 3",
   "language": "python",
   "name": "python3"
  },
  "language_info": {
   "codemirror_mode": {
    "name": "ipython",
    "version": 3
   },
   "file_extension": ".py",
   "mimetype": "text/x-python",
   "name": "python",
   "nbconvert_exporter": "python",
   "pygments_lexer": "ipython3",
   "version": "3.6.1"
  }
 },
 "nbformat": 4,
 "nbformat_minor": 2
}
